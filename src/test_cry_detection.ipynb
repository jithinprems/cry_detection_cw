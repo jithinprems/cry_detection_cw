{
 "cells": [
  {
   "cell_type": "code",
   "execution_count": null,
   "id": "8f841d24",
   "metadata": {},
   "outputs": [],
   "source": [
    "import os\n",
    "\n",
    "from cry_detection import CryDetector\n",
    "\n",
    "base_path = \"../data\"\n",
    "folder_list = [\"NoCry-Noise-NoMusic\", \"NoCry-NoNoise-Music\", \"Cry-Noise-NoMusic\", \n",
    "               \"Cry-NoNoise-Music\", \"Cry-NoNoise-NoMusic\"]\n",
    "for folder in folder_list:\n",
    "    file_list = sorted(os.listdir(os.path.join(base_path, folder)))\n",
    "    for file in file_list:\n",
    "        if file.endswith('.ogg'):\n",
    "            file_path = os.path.join(base_path, folder, file)\n",
    "            print(f\"Processing {file_path}\")\n",
    "            detector = CryDetector(file_path)\n",
    "            detector.run(display=True, file_name=file)\n",
    "            print(f\"Finished processing {file_path}\")"
   ]
  }
 ],
 "metadata": {
  "kernelspec": {
   "display_name": "py3_registration",
   "language": "python",
   "name": "python3"
  },
  "language_info": {
   "codemirror_mode": {
    "name": "ipython",
    "version": 3
   },
   "file_extension": ".py",
   "mimetype": "text/x-python",
   "name": "python",
   "nbconvert_exporter": "python",
   "pygments_lexer": "ipython3",
   "version": "3.10.10"
  }
 },
 "nbformat": 4,
 "nbformat_minor": 5
}
